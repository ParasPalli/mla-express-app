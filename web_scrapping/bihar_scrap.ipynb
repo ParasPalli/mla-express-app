{
 "cells": [
  {
   "cell_type": "markdown",
   "metadata": {},
   "source": [
    "# Bihar Web Scrapping"
   ]
  },
  {
   "cell_type": "code",
   "execution_count": 15,
   "metadata": {},
   "outputs": [
    {
     "name": "stdout",
     "output_type": "stream",
     "text": [
      "Requirement already satisfied: selenium in d:\\python\\lib\\site-packages (3.141.0)\n",
      "Requirement already satisfied: urllib3 in d:\\python\\lib\\site-packages (from selenium) (1.26.9)\n",
      "Note: you may need to restart the kernel to use updated packages.\n"
     ]
    }
   ],
   "source": [
    "pip install selenium"
   ]
  },
  {
   "cell_type": "code",
   "execution_count": 16,
   "metadata": {},
   "outputs": [
    {
     "name": "stdout",
     "output_type": "stream",
     "text": [
      "Collecting webdriver-manager\n",
      "  Downloading webdriver_manager-3.7.1-py2.py3-none-any.whl (25 kB)\n",
      "Collecting python-dotenv\n",
      "  Downloading python_dotenv-0.20.0-py3-none-any.whl (17 kB)\n",
      "Requirement already satisfied: requests in d:\\python\\lib\\site-packages (from webdriver-manager) (2.27.1)\n",
      "Requirement already satisfied: charset-normalizer~=2.0.0 in d:\\python\\lib\\site-packages (from requests->webdriver-manager) (2.0.12)\n",
      "Requirement already satisfied: urllib3<1.27,>=1.21.1 in d:\\python\\lib\\site-packages (from requests->webdriver-manager) (1.26.9)\n",
      "Requirement already satisfied: certifi>=2017.4.17 in d:\\python\\lib\\site-packages (from requests->webdriver-manager) (2022.5.18.1)\n",
      "Requirement already satisfied: idna<4,>=2.5 in d:\\python\\lib\\site-packages (from requests->webdriver-manager) (3.3)\n",
      "Installing collected packages: python-dotenv, webdriver-manager\n",
      "Successfully installed python-dotenv-0.20.0 webdriver-manager-3.7.1\n",
      "Note: you may need to restart the kernel to use updated packages.\n"
     ]
    }
   ],
   "source": [
    "pip install webdriver-manager"
   ]
  },
  {
   "cell_type": "markdown",
   "metadata": {},
   "source": [
    "### Working on Button Pagination"
   ]
  },
  {
   "cell_type": "code",
   "execution_count": 37,
   "metadata": {},
   "outputs": [
    {
     "name": "stdout",
     "output_type": "stream",
     "text": [
      "Current page: 1\n",
      "Clicked 'Next' button.\n",
      "Current page: 2\n",
      "Clicked 'Next' button.\n",
      "Current page: 3\n",
      "Clicked 'Next' button.\n",
      "Current page: 4\n",
      "Clicked 'Next' button.\n",
      "Current page: 5\n",
      "Clicked 'Next' button.\n",
      "Current page: 6\n",
      "Clicked 'Next' button.\n",
      "Current page: 7\n",
      "Clicked 'Next' button.\n",
      "Current page: 8\n",
      "Clicked 'Next' button.\n",
      "Current page: 9\n",
      "Clicked 'Next' button.\n",
      "Current page: 10\n",
      "Clicked 'Next' button.\n",
      "Current page: 11\n",
      "Clicked 'Next' button.\n",
      "Current page: 12\n",
      "Clicked 'Next' button.\n",
      "Current page: 13\n",
      "Clicked 'Next' button.\n",
      "Current page: 14\n",
      "Clicked 'Next' button.\n",
      "Current page: 15\n",
      "Clicked 'Next' button.\n",
      "Current page: 16\n",
      "Clicked 'Next' button.\n",
      "Current page: 17\n",
      "Clicked 'Next' button.\n",
      "Current page: 18\n",
      "Clicked 'Next' button.\n",
      "Current page: 19\n",
      "Clicked 'Next' button.\n",
      "Current page: 20\n",
      "Clicked 'Next' button.\n",
      "Current page: 21\n",
      "Clicked 'Next' button.\n",
      "Current page: 22\n",
      "Clicked 'Next' button.\n",
      "Current page: 23\n",
      "Clicked 'Next' button.\n",
      "Current page: 24\n",
      "Clicked 'Next' button.\n",
      "Current page: 25\n",
      "Reached the last page.\n"
     ]
    }
   ],
   "source": [
    "from selenium import webdriver\n",
    "from selenium.webdriver.common.by import By\n",
    "from selenium.webdriver.common.action_chains import ActionChains\n",
    "from selenium.webdriver.support.ui import WebDriverWait  # Import WebDriverWait\n",
    "from selenium.webdriver.support import expected_conditions as EC  # Import expected conditions\n",
    "import time\n",
    "\n",
    "\n",
    "\n",
    "# Set up the Selenium WebDriver\n",
    "driver = webdriver.Chrome(executable_path='./chrome_driver/chromedriver.exe')\n",
    "url = \"https://vidhansabha.bihar.gov.in/Knowyourmla.html\"\n",
    "driver.get(url)\n",
    "\n",
    "# Function to handle pagination\n",
    "def handle_pagination():\n",
    "    while True:\n",
    "        try:\n",
    "            # Find the current and next buttons\n",
    "            next_button = driver.find_element(By.ID, \"example_next\")\n",
    "            current_page = driver.find_element(By.CSS_SELECTOR, \".paginate_button.current\")\n",
    "            \n",
    "            print(f\"Current page: {current_page.text}\")\n",
    "            \n",
    "            # Perform actions on the current page if needed\n",
    "            # Scrape data or perform specific tasks here\n",
    "            \n",
    "            # Check if the 'Next' button is disabled\n",
    "            if \"disabled\" in next_button.get_attribute(\"class\"):\n",
    "                print(\"Reached the last page.\")\n",
    "                break\n",
    "            \n",
    "            # Scroll to the next button to ensure visibility\n",
    "            ActionChains(driver).move_to_element(next_button).perform()\n",
    "            \n",
    "            # Click the next button\n",
    "            next_button.click()\n",
    "            print(\"Clicked 'Next' button.\")\n",
    "            \n",
    "            # Wait for the page to load\n",
    "            WebDriverWait(driver, 10).until(\n",
    "                EC.staleness_of(current_page)  # Wait until the current page element becomes stale\n",
    "            )\n",
    "        except Exception as e:\n",
    "            print(f\"Error handling pagination: {e}\")\n",
    "            break\n",
    "\n",
    "# Call the function to iterate through pagination\n",
    "handle_pagination()\n",
    "\n",
    "# Close the browser\n",
    "driver.quit()"
   ]
  },
  {
   "cell_type": "markdown",
   "metadata": {},
   "source": [
    "### Combining Data Extractor with Pagination"
   ]
  },
  {
   "cell_type": "code",
   "execution_count": 40,
   "metadata": {},
   "outputs": [
    {
     "name": "stdout",
     "output_type": "stream",
     "text": [
      "Reached the last page.\n",
      "Data saved to bihar_mla_contact_details.csv\n"
     ]
    }
   ],
   "source": [
    "from selenium import webdriver\n",
    "from bs4 import BeautifulSoup\n",
    "import pandas as pd\n",
    "\n",
    "# Set up the Selenium WebDriver\n",
    "driver = webdriver.Chrome(executable_path='./chrome_driver/chromedriver.exe')\n",
    "url = \"https://vidhansabha.bihar.gov.in/Knowyourmla.html\"\n",
    "driver.get(url)\n",
    "\n",
    "# Initialize list to store data\n",
    "data = []\n",
    "\n",
    "# Pagination and Data Extraction\n",
    "while True:\n",
    "    try:\n",
    "        # Parse page content with BeautifulSoup\n",
    "        soup = BeautifulSoup(driver.page_source, 'html.parser')\n",
    "        rows = soup.select('tr[role=\"row\"]')\n",
    "\n",
    "        for row in rows:\n",
    "            # Extract data from cells\n",
    "            cells = row.find_all('td')\n",
    "            if len(cells) > 1:  # Ensure it's a valid row with data\n",
    "                constituency = cells[2].text.strip()\n",
    "                name = cells[3].text.strip()\n",
    "                gender = cells[4].text.strip()\n",
    "                party = cells[5].text.strip()\n",
    "                contact = cells[6].text.strip()\n",
    "                email = cells[7].text.strip()\n",
    "\n",
    "                data.append({\n",
    "                    \"Constituency\": constituency,\n",
    "                    \"Name\": name,\n",
    "                    \"Gender\": gender,\n",
    "                    \"Party\": party,\n",
    "                    \"Contact\": contact,\n",
    "                    \"Email\": email,\n",
    "                    'state': 'bihar'\n",
    "                })\n",
    "\n",
    "        # Click the 'Next' button if available\n",
    "        next_button = driver.find_element(By.ID, \"example_next\")\n",
    "        if \"disabled\" in next_button.get_attribute(\"class\"):\n",
    "            print(\"Reached the last page.\")\n",
    "            break\n",
    "        next_button.click()\n",
    "    except Exception as e:\n",
    "        print(f\"Error during scraping: {e}\")\n",
    "        break\n",
    "\n",
    "# Save data to CSV\n",
    "df = pd.DataFrame(data)\n",
    "df.to_csv('bihar_mla_contact_details.csv', index=False)\n",
    "print(\"Data saved to bihar_mla_contact_details.csv\")\n",
    "\n",
    "# Close the browser\n",
    "driver.quit()\n"
   ]
  },
  {
   "cell_type": "code",
   "execution_count": null,
   "metadata": {},
   "outputs": [],
   "source": []
  }
 ],
 "metadata": {
  "kernelspec": {
   "display_name": "Python 3",
   "language": "python",
   "name": "python3"
  },
  "language_info": {
   "codemirror_mode": {
    "name": "ipython",
    "version": 3
   },
   "file_extension": ".py",
   "mimetype": "text/x-python",
   "name": "python",
   "nbconvert_exporter": "python",
   "pygments_lexer": "ipython3",
   "version": "3.6.4"
  }
 },
 "nbformat": 4,
 "nbformat_minor": 2
}
